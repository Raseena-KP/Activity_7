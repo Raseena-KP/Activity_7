{
 "cells": [
  {
   "cell_type": "code",
   "execution_count": 200,
   "id": "459af97f",
   "metadata": {},
   "outputs": [],
   "source": [
    "import pandas as pd\n",
    "import numpy as np\n",
    "import matplotlib.pyplot as plt\n",
    "import seaborn as sns\n",
    "import statistics"
   ]
  },
  {
   "cell_type": "code",
   "execution_count": 201,
   "id": "e343af6d",
   "metadata": {},
   "outputs": [],
   "source": [
    "df=pd.read_csv(\"datasetw7.csv\")"
   ]
  },
  {
   "cell_type": "code",
   "execution_count": 202,
   "id": "268d96fb",
   "metadata": {},
   "outputs": [
    {
     "data": {
      "text/html": [
       "<div>\n",
       "<style scoped>\n",
       "    .dataframe tbody tr th:only-of-type {\n",
       "        vertical-align: middle;\n",
       "    }\n",
       "\n",
       "    .dataframe tbody tr th {\n",
       "        vertical-align: top;\n",
       "    }\n",
       "\n",
       "    .dataframe thead th {\n",
       "        text-align: right;\n",
       "    }\n",
       "</style>\n",
       "<table border=\"1\" class=\"dataframe\">\n",
       "  <thead>\n",
       "    <tr style=\"text-align: right;\">\n",
       "      <th></th>\n",
       "      <th>Gender</th>\n",
       "      <th>Test preparation</th>\n",
       "      <th>Total Marks</th>\n",
       "    </tr>\n",
       "  </thead>\n",
       "  <tbody>\n",
       "    <tr>\n",
       "      <th>0</th>\n",
       "      <td>male</td>\n",
       "      <td>none</td>\n",
       "      <td>14</td>\n",
       "    </tr>\n",
       "    <tr>\n",
       "      <th>1</th>\n",
       "      <td>female</td>\n",
       "      <td>none</td>\n",
       "      <td>28</td>\n",
       "    </tr>\n",
       "    <tr>\n",
       "      <th>2</th>\n",
       "      <td>female</td>\n",
       "      <td>none</td>\n",
       "      <td>18</td>\n",
       "    </tr>\n",
       "    <tr>\n",
       "      <th>3</th>\n",
       "      <td>female</td>\n",
       "      <td>none</td>\n",
       "      <td>48</td>\n",
       "    </tr>\n",
       "    <tr>\n",
       "      <th>4</th>\n",
       "      <td>female</td>\n",
       "      <td>none</td>\n",
       "      <td>21</td>\n",
       "    </tr>\n",
       "  </tbody>\n",
       "</table>\n",
       "</div>"
      ],
      "text/plain": [
       "   Gender Test preparation  Total Marks\n",
       "0    male             none           14\n",
       "1  female             none           28\n",
       "2  female             none           18\n",
       "3  female             none           48\n",
       "4  female             none           21"
      ]
     },
     "execution_count": 202,
     "metadata": {},
     "output_type": "execute_result"
    }
   ],
   "source": [
    "df.head()"
   ]
  },
  {
   "cell_type": "code",
   "execution_count": 203,
   "id": "570c9a05",
   "metadata": {},
   "outputs": [
    {
     "data": {
      "text/plain": [
       "0"
      ]
     },
     "execution_count": 203,
     "metadata": {},
     "output_type": "execute_result"
    }
   ],
   "source": [
    "df.isna().sum().sum()"
   ]
  },
  {
   "cell_type": "code",
   "execution_count": 204,
   "id": "e8897009",
   "metadata": {},
   "outputs": [
    {
     "data": {
      "text/plain": [
       "Index(['Gender', 'Test_preparation', 'Total_Marks'], dtype='object')"
      ]
     },
     "execution_count": 204,
     "metadata": {},
     "output_type": "execute_result"
    }
   ],
   "source": [
    "col=df.columns\n",
    "for cl in col:\n",
    "    cl_New=cl.replace(\" \",\"_\")\n",
    "    df.rename(columns={cl:cl_New}, inplace=True)\n",
    "df.columns"
   ]
  },
  {
   "cell_type": "code",
   "execution_count": 205,
   "id": "8b953d39",
   "metadata": {},
   "outputs": [
    {
     "data": {
      "text/plain": [
       "Gender              object\n",
       "Test_preparation    object\n",
       "Total_Marks          int64\n",
       "dtype: object"
      ]
     },
     "execution_count": 205,
     "metadata": {},
     "output_type": "execute_result"
    }
   ],
   "source": [
    "df.dtypes"
   ]
  },
  {
   "cell_type": "markdown",
   "id": "32d0264a",
   "metadata": {},
   "source": [
    "# 1. Carry out descriptive analytics on the dataset"
   ]
  },
  {
   "cell_type": "code",
   "execution_count": 206,
   "id": "f1520829",
   "metadata": {},
   "outputs": [
    {
     "data": {
      "text/html": [
       "<div>\n",
       "<style scoped>\n",
       "    .dataframe tbody tr th:only-of-type {\n",
       "        vertical-align: middle;\n",
       "    }\n",
       "\n",
       "    .dataframe tbody tr th {\n",
       "        vertical-align: top;\n",
       "    }\n",
       "\n",
       "    .dataframe thead th {\n",
       "        text-align: right;\n",
       "    }\n",
       "</style>\n",
       "<table border=\"1\" class=\"dataframe\">\n",
       "  <thead>\n",
       "    <tr style=\"text-align: right;\">\n",
       "      <th></th>\n",
       "      <th>Gender</th>\n",
       "      <th>Test_preparation</th>\n",
       "      <th>Median</th>\n",
       "    </tr>\n",
       "  </thead>\n",
       "  <tbody>\n",
       "    <tr>\n",
       "      <th>0</th>\n",
       "      <td>female</td>\n",
       "      <td>completed</td>\n",
       "      <td>45.5</td>\n",
       "    </tr>\n",
       "    <tr>\n",
       "      <th>1</th>\n",
       "      <td>female</td>\n",
       "      <td>none</td>\n",
       "      <td>27.5</td>\n",
       "    </tr>\n",
       "    <tr>\n",
       "      <th>2</th>\n",
       "      <td>male</td>\n",
       "      <td>completed</td>\n",
       "      <td>44.0</td>\n",
       "    </tr>\n",
       "    <tr>\n",
       "      <th>3</th>\n",
       "      <td>male</td>\n",
       "      <td>none</td>\n",
       "      <td>24.0</td>\n",
       "    </tr>\n",
       "  </tbody>\n",
       "</table>\n",
       "</div>"
      ],
      "text/plain": [
       "   Gender Test_preparation  Median\n",
       "0  female        completed    45.5\n",
       "1  female             none    27.5\n",
       "2    male        completed    44.0\n",
       "3    male             none    24.0"
      ]
     },
     "execution_count": 206,
     "metadata": {},
     "output_type": "execute_result"
    }
   ],
   "source": [
    "pv_df=df.pivot_table(index=[\"Gender\",'Test_preparation'],values=\"Total_Marks\",aggfunc=statistics.median)\n",
    "pv_df.reset_index(inplace=True)\n",
    "pv_df.columns=[\"Gender\",'Test_preparation',\"Median\"]\n",
    "pv_df"
   ]
  },
  {
   "cell_type": "markdown",
   "id": "a934816a",
   "metadata": {},
   "source": [
    "Remarks:\n",
    "1. Females who completed the test prepation have high median  compared to the rest, they scored better\n",
    "2. Those who completed the course had better performance"
   ]
  },
  {
   "cell_type": "code",
   "execution_count": 225,
   "id": "d1e8ac1a",
   "metadata": {},
   "outputs": [
    {
     "data": {
      "text/plain": [
       "Text(0.5, 1.0, 'student who completed the Test Course better perfomed, less in counts\\n')"
      ]
     },
     "execution_count": 225,
     "metadata": {},
     "output_type": "execute_result"
    },
    {
     "data": {
      "image/png": "[encoded data removed]",
      "text/plain": [
       "<Figure size 432x288 with 1 Axes>"
      ]
     },
     "metadata": {
      "needs_background": "light"
     },
     "output_type": "display_data"
    }
   ],
   "source": [
    "sns.boxplot(data=df,x=\"Gender\",y=\"Total_Marks\",hue=\"Test_preparation\")\n",
    "plt.legend()\n",
    "plt.title(\"student who completed the Test Course better perfomed, less in counts\\n\")"
   ]
  },
  {
   "cell_type": "markdown",
   "id": "62623bc9",
   "metadata": {},
   "source": [
    "Remarks:\n",
    "    No outliers found in the dataset\n",
    "    students who completed the test course performed better, but very less in count"
   ]
  },
  {
   "cell_type": "markdown",
   "id": "e8e60813",
   "metadata": {},
   "source": [
    "# 2. Check whether female and male students scored the same marks."
   ]
  },
  {
   "cell_type": "code",
   "execution_count": 208,
   "id": "32f5a757",
   "metadata": {},
   "outputs": [
    {
     "data": {
      "text/plain": [
       "Int64Index([14, 18, 48, 27, 44, 28, 43, 41], dtype='int64')"
      ]
     },
     "execution_count": 208,
     "metadata": {},
     "output_type": "execute_result"
    }
   ],
   "source": [
    "# to get the marks whose frequency >1\n",
    "df_ref=df[\"Total_Marks\"].value_counts()>1\n",
    "df_ref.where(df_ref).dropna().index"
   ]
  },
  {
   "cell_type": "code",
   "execution_count": 209,
   "id": "db03c1c8",
   "metadata": {},
   "outputs": [],
   "source": [
    "# to filter DF for Only those marks\n",
    "df_Same=df.query('Total_Marks==[14, 18, 48, 27, 44, 28, 43, 41]') "
   ]
  },
  {
   "cell_type": "code",
   "execution_count": 210,
   "id": "be3ab3dc",
   "metadata": {},
   "outputs": [
    {
     "data": {
      "text/plain": [
       "<AxesSubplot:xlabel='count', ylabel='Total_Marks'>"
      ]
     },
     "execution_count": 210,
     "metadata": {},
     "output_type": "execute_result"
    },
    {
     "data": {
      "image/png": "[encoded data removed]",
      "text/plain": [
       "<Figure size 432x288 with 1 Axes>"
      ]
     },
     "metadata": {
      "needs_background": "light"
     },
     "output_type": "display_data"
    }
   ],
   "source": [
    "# Count plot with hue as gender\n",
    "sns.countplot(y='Total_Marks',data=df_Same,hue='Gender')"
   ]
  },
  {
   "cell_type": "markdown",
   "id": "267488cc",
   "metadata": {},
   "source": [
    "Remarks:\n",
    "    From the above Graph, we can see that female and male students scored the same marks(Marks: 18, 28,43 )"
   ]
  },
  {
   "cell_type": "markdown",
   "id": "5ca2a735",
   "metadata": {},
   "source": [
    "# 3. Whether test preparation helps the students?"
   ]
  },
  {
   "cell_type": "code",
   "execution_count": 226,
   "id": "18b91a58",
   "metadata": {},
   "outputs": [
    {
     "name": "stdout",
     "output_type": "stream",
     "text": [
      "Significance_level: 0.05\n",
      "completed_test: [40 44 43 48 44 50 43]\n",
      "Not_completed_test: [14 28 18 48 21 30 12 18 24 23 28 41 13 45 47 36 14 41 27 27 38]\n"
     ]
    }
   ],
   "source": [
    "# Ho=Test preparation has no impact\n",
    "# Ha=Test preperation helps the students\n",
    "\n",
    "Significance_level=0.05\n",
    "print(\"Significance_level:\",str(Significance_level))\n",
    "\n",
    "# we will go for T tset(one tail) to check whether we need to accept or reject H0, since it has only one direction\n",
    "df_comp=df[df[\"Test_preparation\"]==\"completed\"]\n",
    "df_none=df[df[\"Test_preparation\"]==\"none\"]\n",
    "\n",
    "arr_c=df_comp[\"Total_Marks\"].to_numpy()\n",
    "arr_n=df_none[\"Total_Marks\"].to_numpy()\n",
    "print(\"completed_test:\",str(arr_c))\n",
    "print(\"Not_completed_test:\",str(arr_n))"
   ]
  },
  {
   "cell_type": "code",
   "execution_count": 219,
   "id": "f32288a4",
   "metadata": {},
   "outputs": [],
   "source": [
    "from scipy.stats import ttest_ind"
   ]
  },
  {
   "cell_type": "code",
   "execution_count": 224,
   "id": "1ef2a879",
   "metadata": {},
   "outputs": [
    {
     "name": "stdout",
     "output_type": "stream",
     "text": [
      "Rejecting null hypothesis\n"
     ]
    }
   ],
   "source": [
    "_,p=ttest_ind(arr_c,arr_n)\n",
    "if p>Significance_level:\n",
    "    print(\"Failing to Reject null Hypothesis\")\n",
    "else:\n",
    "    print(\"Rejecting null hypothesis\")"
   ]
  },
  {
   "cell_type": "code",
   "execution_count": null,
   "id": "082daa43",
   "metadata": {},
   "outputs": [],
   "source": [
    "#Conclusion:\n",
    "    # Based on the testing carried out in provided data we are rejecting the null hypothesis\n",
    "    # We can conclude that Test preperation helps the students to achieve good marks"
   ]
  },
  {
   "cell_type": "code",
   "execution_count": null,
   "id": "efcbf981",
   "metadata": {},
   "outputs": [],
   "source": []
  }
 ],
 "metadata": {
  "kernelspec": {
   "display_name": "Python 3 (ipykernel)",
   "language": "python",
   "name": "python3"
  },
  "language_info": {
   "codemirror_mode": {
    "name": "ipython",
    "version": 3
   },
   "file_extension": ".py",
   "mimetype": "text/x-python",
   "name": "python",
   "nbconvert_exporter": "python",
   "pygments_lexer": "ipython3",
   "version": "3.9.12"
  }
 },
 "nbformat": 4,
 "nbformat_minor": 5
}
